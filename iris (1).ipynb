{
 "cells": [
  {
   "cell_type": "code",
   "execution_count": 1,
   "id": "68c37eb3",
   "metadata": {},
   "outputs": [],
   "source": [
    "import json\n",
    "import pandas as pd \n",
    "import numpy as np \n",
    "import seaborn as sns \n",
    "import matplotlib.pyplot as plt\n",
    "from sklearn.model_selection import train_test_split\n",
    "from sklearn.linear_model import LinearRegression,Ridge,LogisticRegression,Lasso,ElasticNet,SGDRegressor\n",
    "from sklearn.tree import DecisionTreeRegressor\n",
    "from sklearn.ensemble import RandomForestRegressor,GradientBoostingRegressor,ExtraTreesRegressor\n",
    "from sklearn.metrics import r2_score\n",
    "import xgboost as xgb\n",
    "from xgboost import XGBRegressor\n",
    "from sklearn.neighbors import KNeighborsClassifier,KNeighborsRegressor\n",
    "\n",
    "from sklearn.model_selection import GridSearchCV"
   ]
  },
  {
   "cell_type": "code",
   "execution_count": 2,
   "id": "cc0e781b",
   "metadata": {},
   "outputs": [],
   "source": [
    "df=pd.read_csv('iris.csv')"
   ]
  },
  {
   "cell_type": "code",
   "execution_count": 3,
   "id": "ee5c069b",
   "metadata": {},
   "outputs": [
    {
     "data": {
      "text/html": [
       "<div>\n",
       "<style scoped>\n",
       "    .dataframe tbody tr th:only-of-type {\n",
       "        vertical-align: middle;\n",
       "    }\n",
       "\n",
       "    .dataframe tbody tr th {\n",
       "        vertical-align: top;\n",
       "    }\n",
       "\n",
       "    .dataframe thead th {\n",
       "        text-align: right;\n",
       "    }\n",
       "</style>\n",
       "<table border=\"1\" class=\"dataframe\">\n",
       "  <thead>\n",
       "    <tr style=\"text-align: right;\">\n",
       "      <th></th>\n",
       "      <th>sepal_length</th>\n",
       "      <th>sepal_width</th>\n",
       "      <th>petal_length</th>\n",
       "      <th>petal_width</th>\n",
       "      <th>species</th>\n",
       "    </tr>\n",
       "  </thead>\n",
       "  <tbody>\n",
       "    <tr>\n",
       "      <th>0</th>\n",
       "      <td>5.1</td>\n",
       "      <td>3.5</td>\n",
       "      <td>1.4</td>\n",
       "      <td>0.2</td>\n",
       "      <td>Iris-setosa</td>\n",
       "    </tr>\n",
       "    <tr>\n",
       "      <th>1</th>\n",
       "      <td>4.9</td>\n",
       "      <td>3.0</td>\n",
       "      <td>1.4</td>\n",
       "      <td>0.2</td>\n",
       "      <td>Iris-setosa</td>\n",
       "    </tr>\n",
       "    <tr>\n",
       "      <th>2</th>\n",
       "      <td>4.7</td>\n",
       "      <td>3.2</td>\n",
       "      <td>1.3</td>\n",
       "      <td>0.2</td>\n",
       "      <td>Iris-setosa</td>\n",
       "    </tr>\n",
       "    <tr>\n",
       "      <th>3</th>\n",
       "      <td>4.6</td>\n",
       "      <td>3.1</td>\n",
       "      <td>1.5</td>\n",
       "      <td>0.2</td>\n",
       "      <td>Iris-setosa</td>\n",
       "    </tr>\n",
       "    <tr>\n",
       "      <th>4</th>\n",
       "      <td>5.0</td>\n",
       "      <td>3.6</td>\n",
       "      <td>1.4</td>\n",
       "      <td>0.2</td>\n",
       "      <td>Iris-setosa</td>\n",
       "    </tr>\n",
       "    <tr>\n",
       "      <th>...</th>\n",
       "      <td>...</td>\n",
       "      <td>...</td>\n",
       "      <td>...</td>\n",
       "      <td>...</td>\n",
       "      <td>...</td>\n",
       "    </tr>\n",
       "    <tr>\n",
       "      <th>145</th>\n",
       "      <td>6.7</td>\n",
       "      <td>3.0</td>\n",
       "      <td>5.2</td>\n",
       "      <td>2.3</td>\n",
       "      <td>Iris-virginica</td>\n",
       "    </tr>\n",
       "    <tr>\n",
       "      <th>146</th>\n",
       "      <td>6.3</td>\n",
       "      <td>2.5</td>\n",
       "      <td>5.0</td>\n",
       "      <td>1.9</td>\n",
       "      <td>Iris-virginica</td>\n",
       "    </tr>\n",
       "    <tr>\n",
       "      <th>147</th>\n",
       "      <td>6.5</td>\n",
       "      <td>3.0</td>\n",
       "      <td>5.2</td>\n",
       "      <td>2.0</td>\n",
       "      <td>Iris-virginica</td>\n",
       "    </tr>\n",
       "    <tr>\n",
       "      <th>148</th>\n",
       "      <td>6.2</td>\n",
       "      <td>3.4</td>\n",
       "      <td>5.4</td>\n",
       "      <td>2.3</td>\n",
       "      <td>Iris-virginica</td>\n",
       "    </tr>\n",
       "    <tr>\n",
       "      <th>149</th>\n",
       "      <td>5.9</td>\n",
       "      <td>3.0</td>\n",
       "      <td>5.1</td>\n",
       "      <td>1.8</td>\n",
       "      <td>Iris-virginica</td>\n",
       "    </tr>\n",
       "  </tbody>\n",
       "</table>\n",
       "<p>150 rows × 5 columns</p>\n",
       "</div>"
      ],
      "text/plain": [
       "     sepal_length  sepal_width  petal_length  petal_width         species\n",
       "0             5.1          3.5           1.4          0.2     Iris-setosa\n",
       "1             4.9          3.0           1.4          0.2     Iris-setosa\n",
       "2             4.7          3.2           1.3          0.2     Iris-setosa\n",
       "3             4.6          3.1           1.5          0.2     Iris-setosa\n",
       "4             5.0          3.6           1.4          0.2     Iris-setosa\n",
       "..            ...          ...           ...          ...             ...\n",
       "145           6.7          3.0           5.2          2.3  Iris-virginica\n",
       "146           6.3          2.5           5.0          1.9  Iris-virginica\n",
       "147           6.5          3.0           5.2          2.0  Iris-virginica\n",
       "148           6.2          3.4           5.4          2.3  Iris-virginica\n",
       "149           5.9          3.0           5.1          1.8  Iris-virginica\n",
       "\n",
       "[150 rows x 5 columns]"
      ]
     },
     "execution_count": 3,
     "metadata": {},
     "output_type": "execute_result"
    }
   ],
   "source": [
    "df"
   ]
  },
  {
   "cell_type": "code",
   "execution_count": 4,
   "id": "05dae2c1",
   "metadata": {},
   "outputs": [
    {
     "data": {
      "text/plain": [
       "(150, 5)"
      ]
     },
     "execution_count": 4,
     "metadata": {},
     "output_type": "execute_result"
    }
   ],
   "source": [
    "df.shape"
   ]
  },
  {
   "cell_type": "code",
   "execution_count": 5,
   "id": "bd2ecd7e",
   "metadata": {},
   "outputs": [
    {
     "name": "stdout",
     "output_type": "stream",
     "text": [
      "<class 'pandas.core.frame.DataFrame'>\n",
      "RangeIndex: 150 entries, 0 to 149\n",
      "Data columns (total 5 columns):\n",
      " #   Column        Non-Null Count  Dtype  \n",
      "---  ------        --------------  -----  \n",
      " 0   sepal_length  150 non-null    float64\n",
      " 1   sepal_width   150 non-null    float64\n",
      " 2   petal_length  150 non-null    float64\n",
      " 3   petal_width   150 non-null    float64\n",
      " 4   species       150 non-null    object \n",
      "dtypes: float64(4), object(1)\n",
      "memory usage: 6.0+ KB\n"
     ]
    }
   ],
   "source": [
    "df.info()"
   ]
  },
  {
   "cell_type": "code",
   "execution_count": 6,
   "id": "bce2a83a",
   "metadata": {},
   "outputs": [
    {
     "data": {
      "text/plain": [
       "5.84"
      ]
     },
     "execution_count": 6,
     "metadata": {},
     "output_type": "execute_result"
    }
   ],
   "source": [
    "round(df['sepal_length'].mean(),2)"
   ]
  },
  {
   "cell_type": "code",
   "execution_count": 7,
   "id": "fefafd02",
   "metadata": {},
   "outputs": [
    {
     "data": {
      "text/plain": [
       "0    0.2\n",
       "Name: petal_width, dtype: float64"
      ]
     },
     "execution_count": 7,
     "metadata": {},
     "output_type": "execute_result"
    }
   ],
   "source": [
    "df['petal_width'].mode()"
   ]
  },
  {
   "cell_type": "code",
   "execution_count": 8,
   "id": "3c0c98f2",
   "metadata": {},
   "outputs": [
    {
     "data": {
      "text/plain": [
       "sepal_length    0\n",
       "sepal_width     0\n",
       "petal_length    0\n",
       "petal_width     0\n",
       "species         0\n",
       "dtype: int64"
      ]
     },
     "execution_count": 8,
     "metadata": {},
     "output_type": "execute_result"
    }
   ],
   "source": [
    "df.isnull().sum()"
   ]
  },
  {
   "cell_type": "code",
   "execution_count": 9,
   "id": "93b345cf",
   "metadata": {},
   "outputs": [
    {
     "data": {
      "text/html": [
       "<div>\n",
       "<style scoped>\n",
       "    .dataframe tbody tr th:only-of-type {\n",
       "        vertical-align: middle;\n",
       "    }\n",
       "\n",
       "    .dataframe tbody tr th {\n",
       "        vertical-align: top;\n",
       "    }\n",
       "\n",
       "    .dataframe thead th {\n",
       "        text-align: right;\n",
       "    }\n",
       "</style>\n",
       "<table border=\"1\" class=\"dataframe\">\n",
       "  <thead>\n",
       "    <tr style=\"text-align: right;\">\n",
       "      <th></th>\n",
       "      <th>sepal_length</th>\n",
       "      <th>sepal_width</th>\n",
       "      <th>petal_length</th>\n",
       "      <th>petal_width</th>\n",
       "    </tr>\n",
       "  </thead>\n",
       "  <tbody>\n",
       "    <tr>\n",
       "      <th>sepal_length</th>\n",
       "      <td>1.000000</td>\n",
       "      <td>-0.109369</td>\n",
       "      <td>0.871754</td>\n",
       "      <td>0.817954</td>\n",
       "    </tr>\n",
       "    <tr>\n",
       "      <th>sepal_width</th>\n",
       "      <td>-0.109369</td>\n",
       "      <td>1.000000</td>\n",
       "      <td>-0.420516</td>\n",
       "      <td>-0.356544</td>\n",
       "    </tr>\n",
       "    <tr>\n",
       "      <th>petal_length</th>\n",
       "      <td>0.871754</td>\n",
       "      <td>-0.420516</td>\n",
       "      <td>1.000000</td>\n",
       "      <td>0.962757</td>\n",
       "    </tr>\n",
       "    <tr>\n",
       "      <th>petal_width</th>\n",
       "      <td>0.817954</td>\n",
       "      <td>-0.356544</td>\n",
       "      <td>0.962757</td>\n",
       "      <td>1.000000</td>\n",
       "    </tr>\n",
       "  </tbody>\n",
       "</table>\n",
       "</div>"
      ],
      "text/plain": [
       "              sepal_length  sepal_width  petal_length  petal_width\n",
       "sepal_length      1.000000    -0.109369      0.871754     0.817954\n",
       "sepal_width      -0.109369     1.000000     -0.420516    -0.356544\n",
       "petal_length      0.871754    -0.420516      1.000000     0.962757\n",
       "petal_width       0.817954    -0.356544      0.962757     1.000000"
      ]
     },
     "execution_count": 9,
     "metadata": {},
     "output_type": "execute_result"
    }
   ],
   "source": [
    "df.corr()"
   ]
  },
  {
   "cell_type": "code",
   "execution_count": 10,
   "id": "d4d4d556",
   "metadata": {},
   "outputs": [
    {
     "data": {
      "text/html": [
       "<div>\n",
       "<style scoped>\n",
       "    .dataframe tbody tr th:only-of-type {\n",
       "        vertical-align: middle;\n",
       "    }\n",
       "\n",
       "    .dataframe tbody tr th {\n",
       "        vertical-align: top;\n",
       "    }\n",
       "\n",
       "    .dataframe thead th {\n",
       "        text-align: right;\n",
       "    }\n",
       "</style>\n",
       "<table border=\"1\" class=\"dataframe\">\n",
       "  <thead>\n",
       "    <tr style=\"text-align: right;\">\n",
       "      <th></th>\n",
       "      <th>count</th>\n",
       "      <th>mean</th>\n",
       "      <th>std</th>\n",
       "      <th>min</th>\n",
       "      <th>2%</th>\n",
       "      <th>3%</th>\n",
       "      <th>4%</th>\n",
       "      <th>5%</th>\n",
       "      <th>50%</th>\n",
       "      <th>95%</th>\n",
       "      <th>96%</th>\n",
       "      <th>97%</th>\n",
       "      <th>98%</th>\n",
       "      <th>99%</th>\n",
       "      <th>max</th>\n",
       "    </tr>\n",
       "  </thead>\n",
       "  <tbody>\n",
       "    <tr>\n",
       "      <th>sepal_length</th>\n",
       "      <td>150.0</td>\n",
       "      <td>5.843333</td>\n",
       "      <td>0.828066</td>\n",
       "      <td>4.3</td>\n",
       "      <td>4.4</td>\n",
       "      <td>4.547</td>\n",
       "      <td>4.600</td>\n",
       "      <td>4.600</td>\n",
       "      <td>5.80</td>\n",
       "      <td>7.255</td>\n",
       "      <td>7.408</td>\n",
       "      <td>7.653</td>\n",
       "      <td>7.700</td>\n",
       "      <td>7.700</td>\n",
       "      <td>7.9</td>\n",
       "    </tr>\n",
       "    <tr>\n",
       "      <th>sepal_width</th>\n",
       "      <td>150.0</td>\n",
       "      <td>3.054000</td>\n",
       "      <td>0.433594</td>\n",
       "      <td>2.0</td>\n",
       "      <td>2.2</td>\n",
       "      <td>2.300</td>\n",
       "      <td>2.300</td>\n",
       "      <td>2.345</td>\n",
       "      <td>3.00</td>\n",
       "      <td>3.800</td>\n",
       "      <td>3.804</td>\n",
       "      <td>3.900</td>\n",
       "      <td>4.002</td>\n",
       "      <td>4.151</td>\n",
       "      <td>4.4</td>\n",
       "    </tr>\n",
       "    <tr>\n",
       "      <th>petal_length</th>\n",
       "      <td>150.0</td>\n",
       "      <td>3.758667</td>\n",
       "      <td>1.764420</td>\n",
       "      <td>1.0</td>\n",
       "      <td>1.2</td>\n",
       "      <td>1.300</td>\n",
       "      <td>1.300</td>\n",
       "      <td>1.300</td>\n",
       "      <td>4.35</td>\n",
       "      <td>6.100</td>\n",
       "      <td>6.108</td>\n",
       "      <td>6.353</td>\n",
       "      <td>6.602</td>\n",
       "      <td>6.700</td>\n",
       "      <td>6.9</td>\n",
       "    </tr>\n",
       "    <tr>\n",
       "      <th>petal_width</th>\n",
       "      <td>150.0</td>\n",
       "      <td>1.198667</td>\n",
       "      <td>0.763161</td>\n",
       "      <td>0.1</td>\n",
       "      <td>0.1</td>\n",
       "      <td>0.100</td>\n",
       "      <td>0.196</td>\n",
       "      <td>0.200</td>\n",
       "      <td>1.30</td>\n",
       "      <td>2.300</td>\n",
       "      <td>2.304</td>\n",
       "      <td>2.400</td>\n",
       "      <td>2.402</td>\n",
       "      <td>2.500</td>\n",
       "      <td>2.5</td>\n",
       "    </tr>\n",
       "  </tbody>\n",
       "</table>\n",
       "</div>"
      ],
      "text/plain": [
       "              count      mean       std  min   2%     3%     4%     5%   50%  \\\n",
       "sepal_length  150.0  5.843333  0.828066  4.3  4.4  4.547  4.600  4.600  5.80   \n",
       "sepal_width   150.0  3.054000  0.433594  2.0  2.2  2.300  2.300  2.345  3.00   \n",
       "petal_length  150.0  3.758667  1.764420  1.0  1.2  1.300  1.300  1.300  4.35   \n",
       "petal_width   150.0  1.198667  0.763161  0.1  0.1  0.100  0.196  0.200  1.30   \n",
       "\n",
       "                95%    96%    97%    98%    99%  max  \n",
       "sepal_length  7.255  7.408  7.653  7.700  7.700  7.9  \n",
       "sepal_width   3.800  3.804  3.900  4.002  4.151  4.4  \n",
       "petal_length  6.100  6.108  6.353  6.602  6.700  6.9  \n",
       "petal_width   2.300  2.304  2.400  2.402  2.500  2.5  "
      ]
     },
     "execution_count": 10,
     "metadata": {},
     "output_type": "execute_result"
    }
   ],
   "source": [
    "df.describe(percentiles=[.02,.03,.04,.05,.95,.96,.97,.98,.99]).T"
   ]
  },
  {
   "cell_type": "code",
   "execution_count": 11,
   "id": "efcbfa77",
   "metadata": {},
   "outputs": [
    {
     "data": {
      "image/png": "[encoded data removed]",
      "text/plain": [
       "<Figure size 640x480 with 2 Axes>"
      ]
     },
     "metadata": {},
     "output_type": "display_data"
    }
   ],
   "source": [
    "sns.heatmap(df.corr(), annot=True, cmap='twilight')\n",
    "plt.show()"
   ]
  },
  {
   "cell_type": "code",
   "execution_count": 12,
   "id": "64939da5",
   "metadata": {},
   "outputs": [],
   "source": [
    "num= df.columns[df.dtypes!='object']"
   ]
  },
  {
   "cell_type": "code",
   "execution_count": 13,
   "id": "b7191cf1",
   "metadata": {
    "scrolled": true
   },
   "outputs": [
    {
     "data": {
      "image/png": "[encoded data removed]",
      "text/plain": [
       "<Figure size 640x480 with 1 Axes>"
      ]
     },
     "metadata": {},
     "output_type": "display_data"
    },
    {
     "data": {
      "image/png": "[encoded data removed]",
      "text/plain": [
       "<Figure size 640x480 with 1 Axes>"
      ]
     },
     "metadata": {},
     "output_type": "display_data"
    },
    {
     "data": {
      "image/png": "[encoded data removed]",
      "text/plain": [
       "<Figure size 640x480 with 1 Axes>"
      ]
     },
     "metadata": {},
     "output_type": "display_data"
    },
    {
     "data": {
      "image/png": "[encoded data removed]",
      "text/plain": [
       "<Figure size 640x480 with 1 Axes>"
      ]
     },
     "metadata": {},
     "output_type": "display_data"
    }
   ],
   "source": [
    "num\n",
    "for i in num:\n",
    "    sns.boxplot(x=df[i])\n",
    "    plt.show()"
   ]
  },
  {
   "cell_type": "code",
   "execution_count": 14,
   "id": "e402ee45",
   "metadata": {},
   "outputs": [],
   "source": [
    "dummi= pd.get_dummies(df, drop_first=True)"
   ]
  },
  {
   "cell_type": "code",
   "execution_count": 15,
   "id": "16604ae3",
   "metadata": {
    "scrolled": true
   },
   "outputs": [
    {
     "data": {
      "text/html": [
       "<div>\n",
       "<style scoped>\n",
       "    .dataframe tbody tr th:only-of-type {\n",
       "        vertical-align: middle;\n",
       "    }\n",
       "\n",
       "    .dataframe tbody tr th {\n",
       "        vertical-align: top;\n",
       "    }\n",
       "\n",
       "    .dataframe thead th {\n",
       "        text-align: right;\n",
       "    }\n",
       "</style>\n",
       "<table border=\"1\" class=\"dataframe\">\n",
       "  <thead>\n",
       "    <tr style=\"text-align: right;\">\n",
       "      <th></th>\n",
       "      <th>sepal_length</th>\n",
       "      <th>sepal_width</th>\n",
       "      <th>petal_length</th>\n",
       "      <th>petal_width</th>\n",
       "      <th>species_Iris-versicolor</th>\n",
       "      <th>species_Iris-virginica</th>\n",
       "    </tr>\n",
       "  </thead>\n",
       "  <tbody>\n",
       "    <tr>\n",
       "      <th>0</th>\n",
       "      <td>5.1</td>\n",
       "      <td>3.5</td>\n",
       "      <td>1.4</td>\n",
       "      <td>0.2</td>\n",
       "      <td>0</td>\n",
       "      <td>0</td>\n",
       "    </tr>\n",
       "    <tr>\n",
       "      <th>1</th>\n",
       "      <td>4.9</td>\n",
       "      <td>3.0</td>\n",
       "      <td>1.4</td>\n",
       "      <td>0.2</td>\n",
       "      <td>0</td>\n",
       "      <td>0</td>\n",
       "    </tr>\n",
       "    <tr>\n",
       "      <th>2</th>\n",
       "      <td>4.7</td>\n",
       "      <td>3.2</td>\n",
       "      <td>1.3</td>\n",
       "      <td>0.2</td>\n",
       "      <td>0</td>\n",
       "      <td>0</td>\n",
       "    </tr>\n",
       "    <tr>\n",
       "      <th>3</th>\n",
       "      <td>4.6</td>\n",
       "      <td>3.1</td>\n",
       "      <td>1.5</td>\n",
       "      <td>0.2</td>\n",
       "      <td>0</td>\n",
       "      <td>0</td>\n",
       "    </tr>\n",
       "    <tr>\n",
       "      <th>4</th>\n",
       "      <td>5.0</td>\n",
       "      <td>3.6</td>\n",
       "      <td>1.4</td>\n",
       "      <td>0.2</td>\n",
       "      <td>0</td>\n",
       "      <td>0</td>\n",
       "    </tr>\n",
       "    <tr>\n",
       "      <th>...</th>\n",
       "      <td>...</td>\n",
       "      <td>...</td>\n",
       "      <td>...</td>\n",
       "      <td>...</td>\n",
       "      <td>...</td>\n",
       "      <td>...</td>\n",
       "    </tr>\n",
       "    <tr>\n",
       "      <th>145</th>\n",
       "      <td>6.7</td>\n",
       "      <td>3.0</td>\n",
       "      <td>5.2</td>\n",
       "      <td>2.3</td>\n",
       "      <td>0</td>\n",
       "      <td>1</td>\n",
       "    </tr>\n",
       "    <tr>\n",
       "      <th>146</th>\n",
       "      <td>6.3</td>\n",
       "      <td>2.5</td>\n",
       "      <td>5.0</td>\n",
       "      <td>1.9</td>\n",
       "      <td>0</td>\n",
       "      <td>1</td>\n",
       "    </tr>\n",
       "    <tr>\n",
       "      <th>147</th>\n",
       "      <td>6.5</td>\n",
       "      <td>3.0</td>\n",
       "      <td>5.2</td>\n",
       "      <td>2.0</td>\n",
       "      <td>0</td>\n",
       "      <td>1</td>\n",
       "    </tr>\n",
       "    <tr>\n",
       "      <th>148</th>\n",
       "      <td>6.2</td>\n",
       "      <td>3.4</td>\n",
       "      <td>5.4</td>\n",
       "      <td>2.3</td>\n",
       "      <td>0</td>\n",
       "      <td>1</td>\n",
       "    </tr>\n",
       "    <tr>\n",
       "      <th>149</th>\n",
       "      <td>5.9</td>\n",
       "      <td>3.0</td>\n",
       "      <td>5.1</td>\n",
       "      <td>1.8</td>\n",
       "      <td>0</td>\n",
       "      <td>1</td>\n",
       "    </tr>\n",
       "  </tbody>\n",
       "</table>\n",
       "<p>150 rows × 6 columns</p>\n",
       "</div>"
      ],
      "text/plain": [
       "     sepal_length  sepal_width  petal_length  petal_width  \\\n",
       "0             5.1          3.5           1.4          0.2   \n",
       "1             4.9          3.0           1.4          0.2   \n",
       "2             4.7          3.2           1.3          0.2   \n",
       "3             4.6          3.1           1.5          0.2   \n",
       "4             5.0          3.6           1.4          0.2   \n",
       "..            ...          ...           ...          ...   \n",
       "145           6.7          3.0           5.2          2.3   \n",
       "146           6.3          2.5           5.0          1.9   \n",
       "147           6.5          3.0           5.2          2.0   \n",
       "148           6.2          3.4           5.4          2.3   \n",
       "149           5.9          3.0           5.1          1.8   \n",
       "\n",
       "     species_Iris-versicolor  species_Iris-virginica  \n",
       "0                          0                       0  \n",
       "1                          0                       0  \n",
       "2                          0                       0  \n",
       "3                          0                       0  \n",
       "4                          0                       0  \n",
       "..                       ...                     ...  \n",
       "145                        0                       1  \n",
       "146                        0                       1  \n",
       "147                        0                       1  \n",
       "148                        0                       1  \n",
       "149                        0                       1  \n",
       "\n",
       "[150 rows x 6 columns]"
      ]
     },
     "execution_count": 15,
     "metadata": {},
     "output_type": "execute_result"
    }
   ],
   "source": [
    "dummi"
   ]
  },
  {
   "cell_type": "code",
   "execution_count": 16,
   "id": "827eee94",
   "metadata": {},
   "outputs": [],
   "source": [
    "x=dummi.drop('petal_width', axis =1)\n",
    "y=dummi['petal_width']"
   ]
  },
  {
   "cell_type": "code",
   "execution_count": 17,
   "id": "13d5e0ca",
   "metadata": {},
   "outputs": [
    {
     "data": {
      "text/plain": [
       "((150, 5), (150,))"
      ]
     },
     "execution_count": 17,
     "metadata": {},
     "output_type": "execute_result"
    }
   ],
   "source": [
    "x.shape, y.shape"
   ]
  },
  {
   "cell_type": "code",
   "execution_count": 18,
   "id": "18329d7d",
   "metadata": {},
   "outputs": [],
   "source": [
    "x_train, x_test, y_train,y_test= train_test_split(x,y, test_size=.1,random_state=10)"
   ]
  },
  {
   "cell_type": "code",
   "execution_count": 19,
   "id": "3205022a",
   "metadata": {},
   "outputs": [
    {
     "data": {
      "text/plain": [
       "LinearRegression()"
      ]
     },
     "execution_count": 19,
     "metadata": {},
     "output_type": "execute_result"
    }
   ],
   "source": [
    "lr=LinearRegression()\n",
    "lr.fit(x_train, y_train)"
   ]
  },
  {
   "cell_type": "code",
   "execution_count": 20,
   "id": "b8f1521d",
   "metadata": {},
   "outputs": [],
   "source": [
    "y_pred=lr.predict(x_test)"
   ]
  },
  {
   "cell_type": "code",
   "execution_count": 21,
   "id": "7369b608",
   "metadata": {},
   "outputs": [],
   "source": [
    "r2_score = r2_score(y_test, y_pred)"
   ]
  },
  {
   "cell_type": "code",
   "execution_count": 22,
   "id": "3ef2a128",
   "metadata": {},
   "outputs": [
    {
     "name": "stdout",
     "output_type": "stream",
     "text": [
      "R2_score : 0.9720044349868276\n"
     ]
    }
   ],
   "source": [
    "print(\"R2_score :\",r2_score )"
   ]
  },
  {
   "cell_type": "code",
   "execution_count": 23,
   "id": "aacea966",
   "metadata": {},
   "outputs": [],
   "source": [
    "data={\n",
    "    \"session_name\": \"test\",\n",
    "    \"session_description\": \"test\",\n",
    "    \"design_state_data\": {\n",
    "\n",
    "      \"session_info\" : {\n",
    "        \"project_id\": \"1\",\n",
    "        \"experiment_id\": \"kkkk-11\",\n",
    "        \"dataset\":\"iris_modified.csv\",\n",
    "        \"session_name\": \"test\",\n",
    "        \"session_description\": \"test\"\n",
    "        },\n",
    "\n",
    "      \"target\": {\n",
    "        \"prediction_type\": \"Regression\",\n",
    "        \"target\": \"petal_width\",\n",
    "        \"type\":\"regression\",\n",
    "        \"partitioning\": 'true'\n",
    "      },\n",
    "      \"train\": {\n",
    "        \"policy\": \"Split the dataset\",\n",
    "        \"time_variable\": \"sepal_length\",\n",
    "        \"sampling_method\": \"No sampling(whole data)\",\n",
    "        \"split\": \"Randomly\",\n",
    "        \"k_fold\": 'false',\n",
    "        \"train_ratio\": 0,\n",
    "        \"random_seed\": 0\n",
    "      },\n",
    "      \"metrics\": {\n",
    "        \"optomize_model_hyperparameters_for\": \"AUC\",\n",
    "        \"optimize_threshold_for\": \"F1 Score\",\n",
    "        \"compute_lift_at\": 0,\n",
    "        \"cost_matrix_gain_for_true_prediction_true_result\": 1,\n",
    "        \"cost_matrix_gain_for_true_prediction_false_result\": 0,\n",
    "        \"cost_matrix_gain_for_false_prediction_true_result\": 0,\n",
    "        \"cost_matrix_gain_for_false_prediction_false_result\": 0\n",
    "      },\n",
    "      \"feature_handling\": {\n",
    "        \"sepal_length\": {\n",
    "          \"feature_name\": \"sepal_length\",\n",
    "          \"is_selected\": 'true',\n",
    "          \"feature_variable_type\": \"numerical\",\n",
    "          \"feature_details\": {\n",
    "            \"numerical_handling\": \"Keep as regular numerical feature\",\n",
    "            \"rescaling\": \"No rescaling\",\n",
    "            \"make_derived_feats\": 'false',\n",
    "            \"missing_values\": \"Impute\",\n",
    "            \"impute_with\": \"Average of values\",\n",
    "            \"impute_value\": 0\n",
    "          }\n",
    "        },\n",
    "        \"sepal_width\": {\n",
    "          \"feature_name\": \"sepal_width\",\n",
    "          \"is_selected\": 'true',\n",
    "          \"feature_variable_type\": \"numerical\",\n",
    "          \"feature_details\": {\n",
    "            \"numerical_handling\": \"Keep as regular numerical feature\",\n",
    "            \"rescaling\": \"No rescaling\",\n",
    "            \"make_derived_feats\": 'false',\n",
    "            \"missing_values\": \"Impute\",\n",
    "            \"impute_with\": \"custom\",\n",
    "            \"impute_value\": -1\n",
    "          }\n",
    "        },\n",
    "        \"petal_length\": {\n",
    "          \"feature_name\": \"petal_length\",\n",
    "          \"is_selected\": 'true',\n",
    "          \"feature_variable_type\": \"numerical\",\n",
    "          \"feature_details\": {\n",
    "            \"numerical_handling\": \"Keep as regular numerical feature\",\n",
    "            \"rescaling\": \"No rescaling\",\n",
    "            \"make_derived_feats\": 'false',\n",
    "            \"missing_values\": \"Impute\",\n",
    "            \"impute_with\": \"Average of values\",\n",
    "            \"impute_value\": 0\n",
    "          }\n",
    "        },\n",
    "        \"petal_width\": {\n",
    "          \"feature_name\": \"petal_width\",\n",
    "          \"is_selected\": 'true',\n",
    "          \"feature_variable_type\": \"numerical\",\n",
    "          \"feature_details\": {\n",
    "            \"numerical_handling\": \"Keep as regular numerical feature\",\n",
    "            \"rescaling\": \"No rescaling\",\n",
    "            \"make_derived_feats\": 'false',\n",
    "            \"missing_values\": \"Impute\",\n",
    "            \"impute_with\": \"custom\",\n",
    "            \"impute_value\": -2\n",
    "          }\n",
    "        },\n",
    "        \"species\": {\n",
    "          \"feature_name\": \"species\",\n",
    "          \"is_selected\": 'true',\n",
    "          \"feature_variable_type\": \"text\",\n",
    "          \"feature_details\": {\n",
    "            \"text_handling\": \"Tokenize and hash\",\n",
    "            \"hash_columns\": 0\n",
    "          }\n",
    "        }\n",
    "      },\n",
    "      \"feature_generation\": {\n",
    "        \"linear_interactions\": [[\"petal_length\", \"sepal_width\"]],\n",
    "        \"linear_scalar_type\": \"robust\",\n",
    "        \"polynomial_interactions\": [\n",
    "          \"petal_length/sepal_width\",\n",
    "          \"petal_width/species\"\n",
    "        ],\n",
    "        \"explicit_pairwise_interactions\": [\n",
    "          \"sepal_width/sepal_length\",\n",
    "          \"petal_width/sepal_length\"\n",
    "        ]\n",
    "      },\n",
    "      \"feature_reduction\": {\n",
    "        \"feature_reduction_method\": \"Tree-based\",\n",
    "        \"num_of_features_to_keep\": \"4\",\n",
    "        \"num_of_trees\": \"5\",\n",
    "        \"depth_of_trees\": \"6\"\n",
    "      },\n",
    "      \"hyperparameters\": {\n",
    "        \"stratergy\": \"Grid Search\",\n",
    "        \"shuffle_grid\": 'true',\n",
    "        \"random_state\": 1,\n",
    "        \"max_iterations\": 2,\n",
    "        \"max_search_time\": 3,\n",
    "        \"parallelism\": 5,\n",
    "        \"cross_validation_stratergy\": \"Time-based K-fold(with overlap)\",\n",
    "        \"num_of_folds\": 6,\n",
    "        \"split_ratio\": 0,\n",
    "        \"stratified\": 'true'\n",
    "      },\n",
    "      \"weighting_stratergy\": {\n",
    "        \"weighting_stratergy_method\": \"Sample weights\",\n",
    "        \"weighting_stratergy_weight_variable\": \"petal_length\"\n",
    "      },\n",
    "      \"probability_calibration\": {\n",
    "        \"probability_calibration_method\": \"Sigmoid - Platt Scaling\"\n",
    "      },\n",
    "      \"algorithms\": {\n",
    "        \"RandomForestClassifier\": {\n",
    "          \"model_name\": \"Random Forest Classifier\",\n",
    "          \"is_selected\": 'false',\n",
    "          \"min_trees\": 10,\n",
    "          \"max_trees\": 30,\n",
    "          \"feature_sampling_statergy\": \"Default\",\n",
    "          \"min_depth\": 20,\n",
    "          \"max_depth\": 30,\n",
    "          \"min_samples_per_leaf_min_value\": 5,\n",
    "          \"min_samples_per_leaf_max_value\": 50,\n",
    "          \"parallelism\": 0\n",
    "        },\n",
    "        \"RandomForestRegressor\": {\n",
    "          \"model_name\": \"Random Forest Regressor\",\n",
    "          \"is_selected\": 'true',\n",
    "          \"min_trees\": 10,\n",
    "          \"max_trees\": 20,\n",
    "          \"feature_sampling_statergy\": \"Default\",\n",
    "          \"min_depth\": 20,\n",
    "          \"max_depth\": 25,\n",
    "          \"min_samples_per_leaf_min_value\": 5,\n",
    "          \"min_samples_per_leaf_max_value\": 10,\n",
    "          \"parallelism\": 0\n",
    "        },\n",
    "        \"GBTClassifier\": {\n",
    "          \"model_name\": \"Gradient Boosted Trees\",\n",
    "          \"is_selected\": 'false',\n",
    "          \"num_of_BoostingStages\": [67, 89],\n",
    "          \"feature_sampling_statergy\": \"Fixed number\",\n",
    "          \"learningRate\": [],\n",
    "          \"use_deviance\": 'true',\n",
    "          \"use_exponential\": 'false',\n",
    "          \"fixed_number\": 22,\n",
    "          \"min_subsample\": 1,\n",
    "          \"max_subsample\": 2,\n",
    "          \"min_stepsize\":0.1,\n",
    "          \"max_stepsize\":0.5, \n",
    "          \"min_iter\":20,\n",
    "          \"max_iter\":40,\n",
    "          \"min_depth\":5,\n",
    "          \"max_depth\":7\n",
    "\n",
    "        },\n",
    "        \"GBTRegressor\": {\n",
    "          \"model_name\": \"Gradient Boosted Trees\",\n",
    "          \"is_selected\": 'false',\n",
    "          \"num_of_BoostingStages\": [67, 89],\n",
    "          \"feature_sampling_statergy\": \"Fixed number\",\n",
    "          \"use_deviance\": 'true',\n",
    "          \"use_exponential\": 'false',\n",
    "          \"fixed_number\": 22,\n",
    "          \"min_subsample\": 1,\n",
    "          \"max_subsample\": 2,\n",
    "          \"min_stepsize\":0.1,\n",
    "          \"max_stepsize\":0.5, \n",
    "          \"min_iter\":20,\n",
    "          \"max_iter\":40,\n",
    "          \"min_depth\":5,\n",
    "          \"max_depth\":7\n",
    "        },\n",
    "        \"LinearRegression\": {\n",
    "          \"model_name\": \"LinearRegression\",\n",
    "          \"is_selected\": 'false',\n",
    "          \"parallelism\": 2,\n",
    "          \"min_iter\":30,\n",
    "          \"max_iter\":50,\n",
    "          \"min_regparam\":0.5,\n",
    "          \"max_regparam\":0.8,\n",
    "          \"min_elasticnet\":0.5,\n",
    "          \"max_elasticnet\":0.8\n",
    "        },\n",
    "        \"LogisticRegression\": {\n",
    "          \"model_name\": \"LogisticRegression\",\n",
    "          \"is_selected\": 'false',\n",
    "          \"parallelism\": 2,\n",
    "          \"min_iter\":30,\n",
    "          \"max_iter\":50,\n",
    "          \"min_regparam\":0.5,\n",
    "          \"max_regparam\":0.8,\n",
    "          \"min_elasticnet\":0.5,\n",
    "          \"max_elasticnet\":0.8\n",
    "        },\n",
    "        \"RidgeRegression\": {\n",
    "          \"model_name\": \"RidgeRegression\",\n",
    "          \"is_selected\": 'false',\n",
    "          \"regularization_term\": \"Specify values to test\",\n",
    "          \"min_iter\":30,\n",
    "          \"max_iter\":50,\n",
    "          \"min_regparam\":0.5,\n",
    "          \"max_regparam\":0.8\n",
    "        },\n",
    "        \"LassoRegression\": {\n",
    "          \"model_name\": \"Lasso Regression\",\n",
    "          \"is_selected\": 'false',\n",
    "          \"regularization_term\": \"Specify values to test\",\n",
    "          \"min_iter\":30,\n",
    "          \"max_iter\":50,\n",
    "          \"min_regparam\":0.5,\n",
    "          \"max_regparam\":0.8\n",
    "        },\n",
    "        \"ElasticNetRegression\": {\n",
    "          \"model_name\": \"Lasso Regression\",\n",
    "          \"is_selected\": 'false',\n",
    "          \"regularization_term\": \"Specify values to test\",\n",
    "          \"min_iter\":30,\n",
    "          \"max_iter\":50,\n",
    "          \"min_regparam\":0.5,\n",
    "          \"max_regparam\":0.8,\n",
    "          \"min_elasticnet\":0.5,\n",
    "          \"max_elasticnet\":0.8\n",
    "        },\n",
    "        \"xg_boost\": {\n",
    "          \"model_name\": \"XG Boost\",\n",
    "          \"is_selected\": 'false',\n",
    "          \"use_gradient_boosted_tree\": 'true',\n",
    "          \"dart\": 'true',\n",
    "          \"tree_method\": \"\",\n",
    "          \"random_state\": 0,\n",
    "          \"max_num_of_trees\": 0,\n",
    "          \"early_stopping\": 'true',\n",
    "          \"early_stopping_rounds\": 2,\n",
    "          \"max_depth_of_tree\": [56, 89], \n",
    "          \"learningRate\": [89, 76],\n",
    "          \"l1_regularization\": [77],\n",
    "          \"l2_regularization\": [78],\n",
    "          \"gamma\": [68],\n",
    "          \"min_child_weight\": [67],\n",
    "          \"sub_sample\": [67],\n",
    "          \"col_sample_by_tree\": [67],\n",
    "          \"replace_missing_values\": 'false',\n",
    "          \"parallelism\": 0\n",
    "        },\n",
    "        \"DecisionTreeRegressor\": {\n",
    "          \"model_name\": \"Decision Tree\",\n",
    "          \"is_selected\": 'false',\n",
    "          \"min_depth\":4,\n",
    "          \"max_depth\": 7,\n",
    "          \"use_gini\": 'false',\n",
    "          \"use_entropy\": 'true',\n",
    "          \"min_samples_per_leaf\": [12, 6],\n",
    "          \"use_best\": 'true',\n",
    "          \"use_random\": 'true'\n",
    "        },\n",
    "        \"DecisionTreeClassifier\": {\n",
    "          \"model_name\": \"Decision Tree\",\n",
    "          \"is_selected\": 'false',\n",
    "          \"min_depth\":4,\n",
    "          \"max_depth\": 7,\n",
    "          \"use_gini\": 'false',\n",
    "          \"use_entropy\": 'true',\n",
    "          \"min_samples_per_leaf\": [12, 6],\n",
    "          \"use_best\": 'true',\n",
    "          \"use_random\": 'true'\n",
    "        },\n",
    "        \"SVM\": {\n",
    "          \"model_name\": \"Support Vector Machine\",\n",
    "          \"is_selected\": 'false',\n",
    "          \"linear_kernel\": 'true',\n",
    "          \"rep_kernel\": 'true',\n",
    "          \"polynomial_kernel\": 'true',\n",
    "          \"sigmoid_kernel\": 'true',\n",
    "          \"c_value\": [566, 79],\n",
    "          \"auto\": 'true',\n",
    "          \"scale\": 'true',\n",
    "          \"custom_gamma_values\": 'true',\n",
    "          \"tolerance\": 7,\n",
    "          \"max_iterations\": 7\n",
    "        },\n",
    "        \"SGD\": {\n",
    "          \"model_name\": \"Stochastic Gradient Descent\",\n",
    "          \"is_selected\": 'false',\n",
    "          \"use_logistics\": 'true',\n",
    "          \"use_modified_hubber_loss\": 'false',\n",
    "          \"max_iterations\": 'false',\n",
    "          \"tolerance\": 56,\n",
    "          \"use_l1_regularization\": \"on\",\n",
    "          \"use_l2_regularization\": \"on\",\n",
    "          \"use_elastic_net_regularization\": 'true',\n",
    "          \"alpha_value\": [79, 56],\n",
    "          \"parallelism\": 1\n",
    "        },\n",
    "        \"KNN\": {\n",
    "          \"model_name\": \"KNN\",\n",
    "          \"is_selected\": 'false',\n",
    "          \"k_value\": [78],\n",
    "          \"distance_weighting\": 'true',\n",
    "          \"neighbour_finding_algorithm\": \"Automatic\",\n",
    "          \"random_state\": 0,\n",
    "          \"p_value\": 0\n",
    "        },\n",
    "        \"extra_random_trees\": {\n",
    "          \"model_name\": \"Extra Random Trees\",\n",
    "          \"is_selected\": 'false',\n",
    "          \"num_of_trees\": [45, 489],\n",
    "          \"feature_sampling_statergy\": \"Square root and Logarithm\",\n",
    "          \"max_depth\": [12, 45],\n",
    "          \"min_samples_per_leaf\": [78, 56],\n",
    "          \"parallelism\": 3\n",
    "        },\n",
    "        \"neural_network\": {\n",
    "          \"model_name\": \"Neural Network\",\n",
    "          \"is_selected\": 'false',\n",
    "          \"hidden_layer_sizes\": [67, 89],\n",
    "          \"activation\": \"\",\n",
    "          \"alpha_value\": 0,\n",
    "          \"max_iterations\": 0,\n",
    "          \"convergence_tolerance\": 0,\n",
    "          \"early_stopping\": 'true',\n",
    "          \"solver\": \"ADAM\",\n",
    "          \"shuffle_data\": 'true',\n",
    "          \"initial_learning_rate\": 0,\n",
    "          \"automatic_batching\": 'true',\n",
    "          \"beta_1\": 0,\n",
    "          \"beta_2\": 0,\n",
    "          \"epsilon\": 0,\n",
    "          \"power_t\": 0,\n",
    "          \"momentum\": 0,\n",
    "          \"use_nesterov_momentum\": 'false'\n",
    "        }\n",
    "      }\n",
    "    }\n",
    "  }\n",
    "  \n",
    "\n"
   ]
  },
  {
   "cell_type": "code",
   "execution_count": 24,
   "id": "d9f3e6ba",
   "metadata": {},
   "outputs": [],
   "source": [
    "json_data = json.dumps(data)"
   ]
  },
  {
   "cell_type": "code",
   "execution_count": 25,
   "id": "38f4d6e1",
   "metadata": {},
   "outputs": [],
   "source": [
    "with open(\"iris_data.json\", \"w\") as json_file:\n",
    "    json.dump(data, json_file)"
   ]
  },
  {
   "cell_type": "code",
   "execution_count": 26,
   "id": "f2e85c5e",
   "metadata": {},
   "outputs": [],
   "source": [
    "with open(\"iris_data.json\", \"r\") as json_file:\n",
    "    data_iris = json.load(json_file)"
   ]
  },
  {
   "cell_type": "code",
   "execution_count": 27,
   "id": "dccc0d7c",
   "metadata": {},
   "outputs": [
    {
     "data": {
      "text/plain": [
       "dict_keys(['session_name', 'session_description', 'design_state_data'])"
      ]
     },
     "execution_count": 27,
     "metadata": {},
     "output_type": "execute_result"
    }
   ],
   "source": [
    "data_iris.keys()"
   ]
  },
  {
   "cell_type": "code",
   "execution_count": 28,
   "id": "086ce5a3",
   "metadata": {},
   "outputs": [],
   "source": [
    "algorithms=data_iris['design_state_data']['algorithms']"
   ]
  },
  {
   "cell_type": "code",
   "execution_count": 29,
   "id": "441f2169",
   "metadata": {},
   "outputs": [],
   "source": [
    "#Random_forest_regressior=algorithms['RandomForestRegressor']\n",
    "#Random_forest_regressior"
   ]
  },
  {
   "cell_type": "code",
   "execution_count": 31,
   "id": "a4393732",
   "metadata": {},
   "outputs": [],
   "source": [
    "#rf=RandomForestRegressor(max_depth=Random_forest_regressior['max_depth'],\n",
    "                        #min_samples_split=Random_forest_regressior['min_samples_per_leaf_min_value'])"
   ]
  },
  {
   "cell_type": "code",
   "execution_count": 32,
   "id": "21bf7c71",
   "metadata": {},
   "outputs": [],
   "source": [
    "#rf.fit(x_train,y_train)"
   ]
  },
  {
   "cell_type": "code",
   "execution_count": 33,
   "id": "bf8f2ff3",
   "metadata": {},
   "outputs": [],
   "source": [
    "#y_rf_pred=rf.predict(x_test)"
   ]
  },
  {
   "cell_type": "code",
   "execution_count": 34,
   "id": "e2744fcc",
   "metadata": {},
   "outputs": [],
   "source": [
    "#R2_score=r2_score(y_test,y_rf_pred)"
   ]
  },
  {
   "cell_type": "code",
   "execution_count": 35,
   "id": "595c85de",
   "metadata": {},
   "outputs": [],
   "source": [
    "#R2_score"
   ]
  },
  {
   "cell_type": "code",
   "execution_count": 36,
   "id": "a7c6b977",
   "metadata": {},
   "outputs": [],
   "source": [
    "#data.keys()"
   ]
  },
  {
   "cell_type": "code",
   "execution_count": 37,
   "id": "9518c190",
   "metadata": {},
   "outputs": [
    {
     "data": {
      "text/plain": [
       "'5'"
      ]
     },
     "execution_count": 37,
     "metadata": {},
     "output_type": "execute_result"
    }
   ],
   "source": [
    "data[\"design_state_data\"][\"feature_reduction\"][\"num_of_trees\"]"
   ]
  },
  {
   "cell_type": "code",
   "execution_count": 38,
   "id": "08ea5603",
   "metadata": {},
   "outputs": [
    {
     "data": {
      "text/plain": [
       "'Grid Search'"
      ]
     },
     "execution_count": 38,
     "metadata": {},
     "output_type": "execute_result"
    }
   ],
   "source": [
    "data['design_state_data']['hyperparameters']['stratergy']"
   ]
  },
  {
   "cell_type": "code",
   "execution_count": 39,
   "id": "9b778026",
   "metadata": {},
   "outputs": [
    {
     "data": {
      "text/plain": [
       "'Tree-based'"
      ]
     },
     "execution_count": 39,
     "metadata": {},
     "output_type": "execute_result"
    }
   ],
   "source": [
    "data['design_state_data']['feature_reduction']['feature_reduction_method']"
   ]
  },
  {
   "cell_type": "code",
   "execution_count": 40,
   "id": "d3d28a08",
   "metadata": {},
   "outputs": [],
   "source": [
    "#data['design_state_data']['feature_handling'].items()"
   ]
  },
  {
   "cell_type": "code",
   "execution_count": 41,
   "id": "b34cf6c7",
   "metadata": {},
   "outputs": [],
   "source": [
    "#data['design_state_data']['feature_handling']['sepal_length']['feature_variable_type']"
   ]
  },
  {
   "cell_type": "code",
   "execution_count": 42,
   "id": "06535b9e",
   "metadata": {
    "scrolled": true
   },
   "outputs": [
    {
     "data": {
      "text/plain": [
       "{'feature_name': 'species',\n",
       " 'is_selected': 'true',\n",
       " 'feature_variable_type': 'text',\n",
       " 'feature_details': {'text_handling': 'Tokenize and hash', 'hash_columns': 0}}"
      ]
     },
     "execution_count": 42,
     "metadata": {},
     "output_type": "execute_result"
    }
   ],
   "source": [
    "data['design_state_data']['feature_handling']['species']#['feature_details']['missing_values']"
   ]
  },
  {
   "cell_type": "code",
   "execution_count": 43,
   "id": "d2c1d6f1",
   "metadata": {},
   "outputs": [
    {
     "data": {
      "text/plain": [
       "dict_items([('sepal_length', {'feature_name': 'sepal_length', 'is_selected': 'true', 'feature_variable_type': 'numerical', 'feature_details': {'numerical_handling': 'Keep as regular numerical feature', 'rescaling': 'No rescaling', 'make_derived_feats': 'false', 'missing_values': 'Impute', 'impute_with': 'Average of values', 'impute_value': 0}}), ('sepal_width', {'feature_name': 'sepal_width', 'is_selected': 'true', 'feature_variable_type': 'numerical', 'feature_details': {'numerical_handling': 'Keep as regular numerical feature', 'rescaling': 'No rescaling', 'make_derived_feats': 'false', 'missing_values': 'Impute', 'impute_with': 'custom', 'impute_value': -1}}), ('petal_length', {'feature_name': 'petal_length', 'is_selected': 'true', 'feature_variable_type': 'numerical', 'feature_details': {'numerical_handling': 'Keep as regular numerical feature', 'rescaling': 'No rescaling', 'make_derived_feats': 'false', 'missing_values': 'Impute', 'impute_with': 'Average of values', 'impute_value': 0}}), ('petal_width', {'feature_name': 'petal_width', 'is_selected': 'true', 'feature_variable_type': 'numerical', 'feature_details': {'numerical_handling': 'Keep as regular numerical feature', 'rescaling': 'No rescaling', 'make_derived_feats': 'false', 'missing_values': 'Impute', 'impute_with': 'custom', 'impute_value': -2}}), ('species', {'feature_name': 'species', 'is_selected': 'true', 'feature_variable_type': 'text', 'feature_details': {'text_handling': 'Tokenize and hash', 'hash_columns': 0}})])"
      ]
     },
     "execution_count": 43,
     "metadata": {},
     "output_type": "execute_result"
    }
   ],
   "source": [
    "data['design_state_data']['feature_handling'].items()"
   ]
  },
  {
   "cell_type": "code",
   "execution_count": 44,
   "id": "938d98fa",
   "metadata": {},
   "outputs": [],
   "source": [
    "dataset_name=df"
   ]
  },
  {
   "cell_type": "code",
   "execution_count": 47,
   "id": "389e37ca",
   "metadata": {},
   "outputs": [],
   "source": [
    "def model_json_pipeline(data,dataset):\n",
    "    train=data['design_state_data']['metrics']\n",
    "    algorithms=data['design_state_data']['algorithms']\n",
    "    target=data['design_state_data']['target']['target']\n",
    "    hyperparameters=data['design_state_data']['hyperparameters']\n",
    "    feature_handling=data['design_state_data']['feature_handling']\n",
    "    prediction_type=data['design_state_data']['target']['prediction_type']\n",
    "    feature_reduction_method=data['design_state_data']['feature_reduction']['feature_reduction_method']\n",
    "    dataset=dataset\n",
    "    print(target)\n",
    "    print(\"*\"*30)\n",
    "    \n",
    "    #Handling Null values \n",
    "    for feature_name,details in feature_handling.items():\n",
    "        if details[\"feature_variable_type\"]=='Impute':\n",
    "            if details['feature_details']['impute_with']=='Average of values':\n",
    "                mean=dataset[feature_name].mean()\n",
    "                dataset[feature_name].fillna(mean,inplace=True)\n",
    "                print(dataset.isnull().sum())\n",
    "                print('*'*30)\n",
    "                \n",
    "            elif details[\"feature_details\"][\"feature_variable_type\"]=='custom':\n",
    "                    dataset[feature_name].fillna(details[\"feature_details\"][\"impute_value\"], inplace=True)\n",
    "                    print(dataset.isnull().sum())\n",
    "                    print('*'*30)\n",
    "    \n",
    "    #frature importance \n",
    "    if feature_reduction_method=='Tree-based':\n",
    "        num_of_features_to_keep = int(data[\"design_state_data\"][\"feature_reduction\"][\"num_of_features_to_keep\"])\n",
    "        num_of_trees = int(data[\"design_state_data\"][\"feature_reduction\"][\"num_of_trees\"])\n",
    "        depth_of_trees = int(data[\"design_state_data\"][\"feature_reduction\"][\"depth_of_trees\"])\n",
    "        dataset1=pd.get_dummies(dataset, drop_first=True)\n",
    "        X=dataset1.drop(target, axis=1)\n",
    "        Y=dataset1[target]\n",
    "        feature_importances = RandomForestRegressor(n_estimators=num_of_trees, max_depth=depth_of_trees).fit(X, Y).feature_importances_\n",
    "        important_features = X.columns[np.argsort(feature_importances)[::-1]][:num_of_features_to_keep]\n",
    "        dataset1 = dataset1[important_features.append(pd.Index([target]))]\n",
    "        print(important_features)\n",
    "        print(\"*\"*30)\n",
    "        \n",
    "    elif feature_reduction_method == \"Corr with Target\":\n",
    "        corr_matrix = dataset.corr()\n",
    "        target_correlation = corr_matrix['target'].drop('target')\n",
    "        threshold = 0.1\n",
    "        important_features = target_correlation[abs(target_correlation) > threshold].index\n",
    "        print(important_features)\n",
    "        \n",
    "    elif feature_reduction_method == \"PCA\":\n",
    "        pca = PCA(n_components=2)\n",
    "        reduced_features = pca.fit_transform(dataset1.drop(columns=['target']))\n",
    "        dataset1 = pd.DataFrame(data=reduced_features, columns=[\"PCA1\", \"PCA2\"])\n",
    "        dataset1['target'] = dataset1['target']\n",
    "    \n",
    "    #model fitt\n",
    "    for feature_name,details in data['design_state_data']['algorithms'].items():\n",
    "        if details[\"is_selected\"]=='true':\n",
    "            Random_forest_regressior=algorithms['RandomForestRegressor']\n",
    "            model=RandomForestRegressor(max_depth=Random_forest_regressior['max_depth'],\n",
    "                        min_samples_split=Random_forest_regressior['min_samples_per_leaf_min_value'])\n",
    "            model=model.fit(X,Y)\n",
    "            \n",
    "            print(model.score(X,Y))   "
   ]
  },
  {
   "cell_type": "code",
   "execution_count": 48,
   "id": "aa3cd273",
   "metadata": {},
   "outputs": [
    {
     "name": "stdout",
     "output_type": "stream",
     "text": [
      "petal_width\n",
      "******************************\n",
      "Index(['petal_length', 'species_Iris-versicolor', 'species_Iris-virginica',\n",
      "       'sepal_width'],\n",
      "      dtype='object')\n",
      "******************************\n",
      "0.983792163978502\n"
     ]
    }
   ],
   "source": [
    "model_json_pipeline(data,df)"
   ]
  },
  {
   "cell_type": "code",
   "execution_count": null,
   "id": "cb18d670",
   "metadata": {},
   "outputs": [],
   "source": []
  }
 ],
 "metadata": {
  "kernelspec": {
   "display_name": "Python 3 (ipykernel)",
   "language": "python",
   "name": "python3"
  },
  "language_info": {
   "codemirror_mode": {
    "name": "ipython",
    "version": 3
   },
   "file_extension": ".py",
   "mimetype": "text/x-python",
   "name": "python",
   "nbconvert_exporter": "python",
   "pygments_lexer": "ipython3",
   "version": "3.9.13"
  }
 },
 "nbformat": 4,
 "nbformat_minor": 5
}
